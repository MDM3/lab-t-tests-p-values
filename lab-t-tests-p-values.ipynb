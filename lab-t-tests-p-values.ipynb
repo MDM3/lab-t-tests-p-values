{
 "cells": [
  {
   "cell_type": "markdown",
   "metadata": {},
   "source": [
    "# Lab | Inferential statistics - T-test & P-value\n",
    "\n",
    "### Instructions\n",
    "\n",
    "1. We will have another simple example on two sample t test (pooled- when the variances are equal). But this time this is a one sided t-test\n",
    "\n",
    "In a packing plant, a machine packs cartons with jars. It is supposed that a new machine will pack faster on the average than the machine currently used. To test that hypothesis, the times it takes each machine to pack ten cartons are recorded. The results, in seconds, are shown in the tables in the file `files_for_lab/machine.txt`.\n",
    "Assume that there is sufficient evidence to conduct the t test, does the data provide sufficient evidence to show if one machine is better than the other"
   ]
  },
  {
   "cell_type": "code",
   "execution_count": 21,
   "metadata": {},
   "outputs": [],
   "source": [
    "import math\n",
    "import pandas as pd\n",
    "import numpy as np\n",
    "import matplotlib.pyplot as plt\n",
    "import scipy.stats as st\n",
    "import statsmodels.api as sm\n",
    "import statsmodels.formula.api as smf\n",
    "%matplotlib inline "
   ]
  },
  {
   "cell_type": "code",
   "execution_count": 22,
   "metadata": {},
   "outputs": [],
   "source": [
    "df_machine = pd.read_csv(r\"C:\\Users\\Darkos\\Desktop\\Labs\\WEEK_4_EDA\\lab-t-tests-p-values\\files_for_lab\\machine.txt\",encoding='UTF-16 LE', sep='\\t')"
   ]
  },
  {
   "cell_type": "code",
   "execution_count": 23,
   "metadata": {},
   "outputs": [
    {
     "data": {
      "text/plain": [
       "Index(['New machine', '    Old machine'], dtype='object')"
      ]
     },
     "execution_count": 23,
     "metadata": {},
     "output_type": "execute_result"
    }
   ],
   "source": [
    "df_machine.columns"
   ]
  },
  {
   "cell_type": "code",
   "execution_count": 24,
   "metadata": {},
   "outputs": [],
   "source": [
    "df_machine = df_machine.rename(columns={'New machine': 'new_machine','    Old machine':'old_machine'})"
   ]
  },
  {
   "cell_type": "markdown",
   "metadata": {},
   "source": [
    "- Ho: X(new machine) = X(old machines)\n",
    "- Ho: X(new machine) != X(old machines)"
   ]
  },
  {
   "cell_type": "code",
   "execution_count": 43,
   "metadata": {},
   "outputs": [
    {
     "name": "stdout",
     "output_type": "stream",
     "text": [
      "La media de la nueva maquina es: 42.14\n",
      "La media de la maquina antigua es: 43.23\n"
     ]
    }
   ],
   "source": [
    "#means\n",
    "\n",
    "mean_NM = df_machine['new_machine'].mean()\n",
    "mean_OM = df_machine['old_machine'].mean()\n",
    "\n",
    "print(f'La media de la nueva maquina es: {df_NM_mean}')\n",
    "print(f'La media de la maquina antigua es: {df_OM_mean:.2f}')"
   ]
  },
  {
   "cell_type": "code",
   "execution_count": 38,
   "metadata": {},
   "outputs": [
    {
     "name": "stdout",
     "output_type": "stream",
     "text": [
      "Sigma new machine: 0.68345527\n",
      "Sigma old machine: 0.74988888\n"
     ]
    }
   ],
   "source": [
    "# Standard deviations \n",
    "\n",
    "sigma_NM = df_machine['new_machine'].std()\n",
    "sigma_OM = df_machine['old_machine'].std()\n",
    "print(f'Sigma new machine: {sigma_NM:.8f}')\n",
    "print(f'Sigma old machine: {sigma_OM:.8f}')"
   ]
  },
  {
   "cell_type": "code",
   "execution_count": 41,
   "metadata": {},
   "outputs": [
    {
     "name": "stdout",
     "output_type": "stream",
     "text": [
      "Sample new machine: 10\n",
      "Sample old machine: 10\n"
     ]
    }
   ],
   "source": [
    "sample_NM = len(df_machine['new_machine'])\n",
    "sample_OM = len(df_machine['old_machine'])\n",
    "\n",
    "print(f'Sample new machine: {sample_NM}')\n",
    "print(f'Sample old machine: {sample_OM}')"
   ]
  },
  {
   "cell_type": "code",
   "execution_count": null,
   "metadata": {},
   "outputs": [
    {
     "name": "stdout",
     "output_type": "stream",
     "text": [
      "3.40\n"
     ]
    }
   ],
   "source": [
    "t_stat_1 = (mean_NM - mean_OM) / ((sigma_NM ** 2 / 10) + (sigma_OM ** 2 / 10))**(1/2)\n",
    "print(f'{t_stat_1:.2f}')"
   ]
  },
  {
   "cell_type": "code",
   "execution_count": 51,
   "metadata": {},
   "outputs": [
    {
     "name": "stdout",
     "output_type": "stream",
     "text": [
      "0.0032\n"
     ]
    }
   ],
   "source": [
    "p_value_1 = st.t.sf(np.abs(t_stat_1), df=((sample_NM-1)+(sample_OM-1)))*2\n",
    "\n",
    "print(f'{p_value_1:.4f}')"
   ]
  },
  {
   "cell_type": "code",
   "execution_count": 53,
   "metadata": {},
   "outputs": [
    {
     "name": "stdout",
     "output_type": "stream",
     "text": [
      "Reject the Null Hypothesis: There is sufficient evidence to conclude that the new machine is better.\n"
     ]
    }
   ],
   "source": [
    "# Significance level\n",
    "alpha = 0.05\n",
    "\n",
    "if p_value_1 > alpha:\n",
    "    print(\"Fail to Reject the Null Hypothesis: Both machines are not significantly different.\")\n",
    "else:\n",
    "    print(\"Reject the Null Hypothesis: There is sufficient evidence to conclude that the new machine is better.\")"
   ]
  },
  {
   "cell_type": "markdown",
   "metadata": {},
   "source": [
    "##### La hipotesis nula es ver que no hay diferencias significativas entre las maquinas\n",
    "##### La hipotesis alternativa es que son diferentes"
   ]
  },
  {
   "cell_type": "code",
   "execution_count": null,
   "metadata": {},
   "outputs": [
    {
     "name": "stdout",
     "output_type": "stream",
     "text": [
      "Test Statistic (t): -3.40\n",
      "P-Value: 0.0032\n",
      "\n",
      "Reject the Null Hypothesis: There is sufficient evidence to conclude that the new machine is better.\n"
     ]
    }
   ],
   "source": [
    "# Extract fares for male and female passengers\n",
    "OM = df_machine['old_machine']\n",
    "NM = df_machine['new_machine']\n",
    "\n",
    "# Perform two-sample t-test for independent samples\n",
    "t_stat, p_value = st.ttest_ind(NM, OM) \n",
    "print(f\"Test Statistic (t): {t_stat:.2f}\")\n",
    "print(f\"P-Value: {p_value:.4f}\")\n",
    "print()\n",
    "\n",
    "# Significance level\n",
    "alpha = 0.05\n",
    "\n",
    "if p_value > alpha:\n",
    "    print(\"Fail to Reject the Null Hypothesis: Both machines are not significantly different.\")\n",
    "else:\n",
    "    print(\"Reject the Null Hypothesis: There is sufficient evidence to conclude that the new machine is better.\")    \n"
   ]
  },
  {
   "cell_type": "code",
   "execution_count": null,
   "metadata": {},
   "outputs": [],
   "source": []
  }
 ],
 "metadata": {
  "kernelspec": {
   "display_name": "base",
   "language": "python",
   "name": "python3"
  },
  "language_info": {
   "codemirror_mode": {
    "name": "ipython",
    "version": 3
   },
   "file_extension": ".py",
   "mimetype": "text/x-python",
   "name": "python",
   "nbconvert_exporter": "python",
   "pygments_lexer": "ipython3",
   "version": "3.12.4"
  }
 },
 "nbformat": 4,
 "nbformat_minor": 2
}
